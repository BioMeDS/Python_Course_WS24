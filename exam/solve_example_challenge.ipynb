{
 "cells": [
  {
   "cell_type": "code",
   "execution_count": 1,
   "metadata": {},
   "outputs": [],
   "source": [
    "def count_nucleotides(dna):\n",
    "\tcounts = {\"A\": 0, \"C\": 0, \"G\": 0, \"T\": 0}\n",
    "\tfor nuc in dna:\n",
    "\t\tcounts[nuc] += 1\n",
    "\tprint(f\"{counts['A']} {counts['C']} {counts['G']} {counts['T']}\")"
   ]
  },
  {
   "cell_type": "code",
   "execution_count": 2,
   "metadata": {},
   "outputs": [
    {
     "name": "stdout",
     "output_type": "stream",
     "text": [
      "20 12 17 21\n"
     ]
    }
   ],
   "source": [
    "count_nucleotides(\"AGCTTTTCATTCTGACTGCAACGGGCAATATGTCTCTGTGTGGATTAAAAAAAGAGTGTCTGATAGCAGC\")"
   ]
  },
  {
   "cell_type": "code",
   "execution_count": 4,
   "metadata": {},
   "outputs": [
    {
     "name": "stdout",
     "output_type": "stream",
     "text": [
      "230 251 224 254\n"
     ]
    }
   ],
   "source": [
    "count_nucleotides(\"GGACCAATCATCAGGAGGGTGGTCGCTGATTGAGGGCAAACTCCATTCCGGGGAATAATGCCTCCGGGTTTCGAAAACACCCAGTGTGTGCAACCTCCCACAGATTTGTTCAACTCAAGAAGACTTCCCAACTCCCCTGTGCCCCAAGCTGCCTCCTTCGCAAACCGTCATCCCTTCTCAGCAGCATTGTGAGCCCTTATGTATTCCAGTTTCGCCCGTTAACGTGCACCCGAAGGTGTTTGTCTCCTCGCTGATCTGTATGGCAAGCTTCGAGATGATACGCTTTGCCCGATATCGAACCTACCTTGTAGATGCTAGACGCAGCTGAACTACGCACTTCGGTTCGCCGCGTCAACCCCACAACATCCCTATTTCAGGGCAAACCCATCACTAAGCGATTTATTCGCTTGTCAGTCCACCCTGCAAGATCGAGCAGAAAAATGCGCCAGCCTAGACTAGGATGCTTCGGCGACGAGAAGCGCCGTTGCTCCTGTAAGGTGTTTATGATCGTTTATCTAGGGAGCTGGTACAGAAGATCCAGAGTTTTTCTGCATAAGGAGTTTCTGACATAAGATTCGGAGCGGGGGACTGCGCCCGAATAGTGACACCTTTCGCTAGAAATGTGGATTGTCAAGAGGATTCCTTTAAAAGGTTCTATCAGACTCATGCTCGAGATAAAACTCCGGACACCACTGTTGAATCTTTGGGAGCTTTATTCATCGGTTGAGTTCGCGGGAACCGTGCTGACAAAAAATGGGGGTGTACCCTATTTGCTTTCTCGCTTATGGCCAACCAGTATTGCTAGAAAGTTGCACGCTTTGCACAGAAGTCATTTGAGGCAAGCGGTCGGATTAGTTGCCCATAGTGGTTGCAGTGAGTTCGACCTATAGCATTTCACGTAAATGATGATACACTTCCTTGTTTATCCTAACTCCACTCCCCCCGTCGGGCAATCATCT\")"
   ]
  },
  {
   "cell_type": "code",
   "execution_count": null,
   "metadata": {},
   "outputs": [],
   "source": []
  }
 ],
 "metadata": {
  "kernelspec": {
   "display_name": "base",
   "language": "python",
   "name": "python3"
  },
  "language_info": {
   "codemirror_mode": {
    "name": "ipython",
    "version": 3
   },
   "file_extension": ".py",
   "mimetype": "text/x-python",
   "name": "python",
   "nbconvert_exporter": "python",
   "pygments_lexer": "ipython3",
   "version": "3.12.5"
  }
 },
 "nbformat": 4,
 "nbformat_minor": 2
}
