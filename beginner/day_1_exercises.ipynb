{
 "cells": [
  {
   "cell_type": "markdown",
   "metadata": {},
   "source": [
    "# Exercises - Day 1"
   ]
  },
  {
   "cell_type": "markdown",
   "metadata": {},
   "source": [
    "## 1. Fahrenheit ←→ Celsius\n",
    "Write a function `fahrenheit_to_celsius(temperature)` that can convert Fahrenheit to Celsius and a function `celsius_to_fahrenheit(temperature)` that does the reverse\n"
   ]
  },
  {
   "cell_type": "markdown",
   "metadata": {},
   "source": [
    "According to [Wikipedia](https://en.wikipedia.org/wiki/Fahrenheit#Conversion_(specific_temperature_point)):\n",
    "\n",
    "$$\n",
    "{\\displaystyle \\left\\{t\\right\\}_{\\mathrm {^{\\circ }C} }=(\\left\\{t\\right\\}_{\\mathrm {^{\\circ }F} }-32)\\cdot {\\tfrac {5}{9}}} \t \\\\\n",
    "{\\displaystyle \\left\\{t\\right\\}_{\\mathrm {^{\\circ }F} }=\\left\\{t\\right\\}_{\\mathrm {^{\\circ }C} }\\cdot {\\tfrac {9}{5}}+32}\n",
    "$$"
   ]
  },
  {
   "cell_type": "code",
   "execution_count": null,
   "metadata": {},
   "outputs": [],
   "source": []
  },
  {
   "cell_type": "markdown",
   "metadata": {},
   "source": [
    "## 2. Leap year\n",
    "\n",
    "Write a function `is_leap_year(year)` that tells whether any given year is a leap year or not\n"
   ]
  },
  {
   "cell_type": "markdown",
   "metadata": {},
   "source": [
    "According to [Wikipedia](https://en.wikipedia.org/wiki/Leap_year#Gregorian_calendar):\n",
    "\n",
    "> Every year that is exactly divisible by four is a leap year, except for years that are exactly divisible by 100, but these centurial years are leap years if they are exactly divisible by 400"
   ]
  },
  {
   "cell_type": "code",
   "execution_count": null,
   "metadata": {},
   "outputs": [],
   "source": []
  }
 ],
 "metadata": {
  "language_info": {
   "name": "python"
  }
 },
 "nbformat": 4,
 "nbformat_minor": 2
}
