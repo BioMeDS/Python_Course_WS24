{
 "cells": [
  {
   "cell_type": "markdown",
   "metadata": {},
   "source": [
    "# Exercises - Day 2"
   ]
  },
  {
   "cell_type": "markdown",
   "metadata": {},
   "source": [
    "## 1. Subsequence positions\n",
    "Write a function `subsequence_positions(sequence, subsequence)` that takes a sequence and a subsequence as a string and returns a list of all positions where the subsequence occurs within the sequence\n"
   ]
  },
  {
   "cell_type": "code",
   "execution_count": 1,
   "metadata": {},
   "outputs": [],
   "source": [
    "s1 = \"ACGACTAACGTG\"\n",
    "s2 = \"ACG\""
   ]
  },
  {
   "cell_type": "code",
   "execution_count": 2,
   "metadata": {},
   "outputs": [],
   "source": [
    "def subsequence_positions(sequence, subsequence):\n",
    "\tpositions = []\n",
    "\tfor pos in range(0,len(sequence)-len(subsequence)+1):\n",
    "\t\tsequence_at_pos = sequence[pos:pos+len(subsequence)]\n",
    "\t\tif subsequence == sequence_at_pos:\n",
    "\t\t\tpositions.append(pos)\n",
    "\treturn positions"
   ]
  },
  {
   "cell_type": "code",
   "execution_count": 3,
   "metadata": {},
   "outputs": [
    {
     "data": {
      "text/plain": [
       "[0, 7]"
      ]
     },
     "execution_count": 3,
     "metadata": {},
     "output_type": "execute_result"
    }
   ],
   "source": [
    "subsequence_positions(s1, s2)"
   ]
  },
  {
   "cell_type": "markdown",
   "metadata": {},
   "source": [
    "## 2. Subsequences positions\n",
    "\n",
    "Write a function `subsequences_positions(sequence, subsequences)` that takes a sequence as a string and a list of subsequences and returns a dictionary with each subsequence as keys and a list of all positions where that subsequence occurs within the sequence as values\n"
   ]
  },
  {
   "cell_type": "code",
   "execution_count": 4,
   "metadata": {},
   "outputs": [],
   "source": [
    "subseqs = [\"ACG\", \"CG\", \"T\", \"ACGTA\"]"
   ]
  },
  {
   "cell_type": "code",
   "execution_count": 5,
   "metadata": {},
   "outputs": [],
   "source": [
    "def subsequences_positions(sequence: str, subsequences: list):\n",
    "\tresult = {}\n",
    "\tfor subseq in subsequences:\n",
    "\t\tresult[subseq] = subsequence_positions(sequence, subseq)\n",
    "\treturn result"
   ]
  },
  {
   "cell_type": "code",
   "execution_count": 6,
   "metadata": {},
   "outputs": [
    {
     "data": {
      "text/plain": [
       "{'ACG': [0, 7], 'CG': [1, 8], 'T': [5, 10], 'ACGTA': []}"
      ]
     },
     "execution_count": 6,
     "metadata": {},
     "output_type": "execute_result"
    }
   ],
   "source": [
    "subsequences_positions(s1, subseqs)"
   ]
  },
  {
   "cell_type": "code",
   "execution_count": 7,
   "metadata": {},
   "outputs": [
    {
     "name": "stdout",
     "output_type": "stream",
     "text": [
      "3.74 µs ± 20.1 ns per loop (mean ± std. dev. of 7 runs, 100,000 loops each)\n"
     ]
    }
   ],
   "source": [
    "%%timeit\n",
    "subsequences_positions(s1, subseqs)"
   ]
  },
  {
   "cell_type": "code",
   "execution_count": null,
   "metadata": {},
   "outputs": [],
   "source": []
  }
 ],
 "metadata": {
  "kernelspec": {
   "display_name": "base",
   "language": "python",
   "name": "python3"
  },
  "language_info": {
   "codemirror_mode": {
    "name": "ipython",
    "version": 3
   },
   "file_extension": ".py",
   "mimetype": "text/x-python",
   "name": "python",
   "nbconvert_exporter": "python",
   "pygments_lexer": "ipython3",
   "version": "3.10.6"
  }
 },
 "nbformat": 4,
 "nbformat_minor": 2
}
