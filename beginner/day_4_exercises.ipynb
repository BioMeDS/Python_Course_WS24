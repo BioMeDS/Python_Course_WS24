{
 "cells": [
  {
   "cell_type": "code",
   "execution_count": 5,
   "metadata": {},
   "outputs": [],
   "source": [
    "import pandas as pd"
   ]
  },
  {
   "cell_type": "code",
   "execution_count": 16,
   "metadata": {},
   "outputs": [],
   "source": [
    "def gc_content(seq):\n",
    "\tnum_gc = 0\n",
    "\tfor nt in seq:\n",
    "\t\tif nt==\"G\" or nt==\"C\":\n",
    "\t\t\tnum_gc += 1\n",
    "\treturn num_gc / len(seq)"
   ]
  },
  {
   "cell_type": "code",
   "execution_count": null,
   "metadata": {},
   "outputs": [],
   "source": [
    "def parse(file, save_stats=False):\n",
    "   f=open(file,'r')\n",
    "   lines=f.readlines()\n",
    "   f.close()\n",
    "   sequences_dict={}\n",
    "   sequences_name= None\n",
    "   for line in lines:\n",
    "      if line[0]=='>':\n",
    "         sequences_name=line[1:].strip()\n",
    "         sequences_dict[sequences_name]=\"\"\n",
    "      else:\n",
    "         if sequences_name: \n",
    "            sequences_dict[sequences_name] = sequences_dict[sequences_name] + line.strip()\n",
    "\n",
    "   if save_stats==True:\n",
    "        stats_df=pd.DataFrame({\"sequence_id\":[],\"length\":[],\"GC%\":[]})\n",
    "        list_of_ids = sequences_dict.keys()\n",
    "        list_of_lengths = []\n",
    "        list_of_gc = []\n",
    "        for id in list_of_ids:\n",
    "           list_of_lengths.append(len(sequences_dict[id]))\n",
    "           list_of_gc.append(gc_content(sequences_dict[id]))\n",
    "        stats_df[\"sequence_id\"]=list_of_ids\n",
    "        stats_df[\"length\"]=list_of_lengths\n",
    "        stats_df[\"GC%\"]=list_of_gc\n",
    "        stats_df.to_csv(\"stats.csv\",index=False)\n",
    "   return(sequences_dict)"
   ]
  },
  {
   "cell_type": "code",
   "execution_count": 8,
   "metadata": {},
   "outputs": [
    {
     "data": {
      "text/plain": [
       "{'seq1': 'ACGTA',\n",
       " 'seq2': 'AAAAAAAAAACGGAGGAT',\n",
       " 'seq3': 'CCCCCCCCCCCCCCCCCCCCCCCCCCCCCCCCCCCCCCCCCCCAAAAAAAAAAAAAAAAAAAAAAAAAAAAAAACCCGCAT'}"
      ]
     },
     "execution_count": 8,
     "metadata": {},
     "output_type": "execute_result"
    }
   ],
   "source": [
    "parse(\"test.fa\",save_stats=False)"
   ]
  },
  {
   "cell_type": "code",
   "execution_count": 19,
   "metadata": {},
   "outputs": [
    {
     "data": {
      "text/plain": [
       "{'seq1': 'ACGTA',\n",
       " 'seq2': 'AAAAAAAAAACGGAGGAT',\n",
       " 'seq3': 'CCCCCCCCCCCCCCCCCCCCCCCCCCCCCCCCCCCCCCCCCCCAAAAAAAAAAAAAAAAAAAAAAAAAAAAAAACCCGCAT'}"
      ]
     },
     "execution_count": 19,
     "metadata": {},
     "output_type": "execute_result"
    }
   ],
   "source": [
    "parse(\"test.fa\",save_stats=True)"
   ]
  }
 ],
 "metadata": {
  "kernelspec": {
   "display_name": "base",
   "language": "python",
   "name": "python3"
  },
  "language_info": {
   "codemirror_mode": {
    "name": "ipython",
    "version": 3
   },
   "file_extension": ".py",
   "mimetype": "text/x-python",
   "name": "python",
   "nbconvert_exporter": "python",
   "pygments_lexer": "ipython3",
   "version": "3.12.5"
  }
 },
 "nbformat": 4,
 "nbformat_minor": 2
}
